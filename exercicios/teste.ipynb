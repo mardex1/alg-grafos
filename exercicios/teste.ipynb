{
 "cells": [
  {
   "cell_type": "code",
   "execution_count": 1,
   "metadata": {},
   "outputs": [],
   "source": [
    "from datetime import datetime, timedelta\n",
    "\n",
    "class Data:\n",
    "    def __init__(self, dia=None, mes=None, ano=None):\n",
    "        if dia is not None and mes is not None and ano is not None:\n",
    "            if self.verificar_data(dia, mes, ano):\n",
    "                self.dia = dia\n",
    "                self.mes = mes\n",
    "                self.ano = ano\n",
    "            else:\n",
    "                print(\"Data inválida! Inicializando com a data atual do sistema.\")\n",
    "                self.inicializar_data_atual()\n",
    "        else:\n",
    "            self.inicializar_data_atual()\n",
    "\n",
    "    def verificar_data(self, dia, mes, ano):\n",
    "        try:\n",
    "            data_str = f\"{dia:02d}/{mes:02d}/{ano:04d}\"\n",
    "            datetime.strptime(data_str, \"%d/%m/%Y\")\n",
    "            return True\n",
    "        except ValueError:\n",
    "            return False\n",
    "\n",
    "    def inicializar_data_atual(self):\n",
    "        hoje = datetime.now()\n",
    "        self.dia = hoje.day\n",
    "        self.mes = hoje.month\n",
    "        self.ano = hoje.year\n",
    "\n",
    "    def avancar_dia(self):\n",
    "        data_str = f\"{self.dia:02d}/{self.mes:02d}/{self.ano:04d}\"\n",
    "        data = datetime.strptime(data_str, \"%d/%m/%Y\") + timedelta(days=1)\n",
    "        self.dia = data.day\n",
    "        self.mes = data.month\n",
    "        self.ano = data.year\n",
    "\n",
    "data1 = Data(12, 4, 2023)\n",
    "data2 = Data(32, 5, 2024)\n",
    "data3 = Data"
   ]
  }
 ],
 "metadata": {
  "kernelspec": {
   "display_name": "base",
   "language": "python",
   "name": "python3"
  },
  "language_info": {
   "codemirror_mode": {
    "name": "ipython",
    "version": 3
   },
   "file_extension": ".py",
   "mimetype": "text/x-python",
   "name": "python",
   "nbconvert_exporter": "python",
   "pygments_lexer": "ipython3",
   "version": "3.10.9"
  },
  "orig_nbformat": 4
 },
 "nbformat": 4,
 "nbformat_minor": 2
}
